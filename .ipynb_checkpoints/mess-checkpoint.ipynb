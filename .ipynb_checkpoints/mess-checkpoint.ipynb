{
 "metadata": {
  "name": "",
  "signature": "sha256:74f46d993c0a0e11e825d4332d926796873e79869ed067b6296ba978c828cdde"
 },
 "nbformat": 3,
 "nbformat_minor": 0,
 "worksheets": [
  {
   "cells": [
    {
     "cell_type": "code",
     "collapsed": false,
     "input": [
      "from collections import defaultdict\n",
      "from addTrack import addTrack\n",
      "addTrack('echo.wav')"
     ],
     "language": "python",
     "metadata": {},
     "outputs": [
      {
       "output_type": "stream",
       "stream": "stdout",
       "text": [
        "extracting fingerprint of echo.wav...\n",
        "echo.wav\n",
        "\n",
        "echo.wav extracted in 6.48 seconds! fingerprint size: 93920 bytes"
       ]
      },
      {
       "output_type": "stream",
       "stream": "stdout",
       "text": [
        "\n",
        "added track echo.wav to database, using 0.01 seconds\n"
       ]
      }
     ],
     "prompt_number": 1
    },
    {
     "cell_type": "code",
     "collapsed": false,
     "input": [
      "from collections import defaultdict\n",
      "def generateZeros():\n",
      "    return zeros(2,dtype=uint32)\n",
      "a = defaultdict(generateZeros)\n",
      "a[2]"
     ],
     "language": "python",
     "metadata": {},
     "outputs": [
      {
       "metadata": {},
       "output_type": "pyout",
       "prompt_number": 6,
       "text": [
        "array([0, 0], dtype=uint32)"
       ]
      }
     ],
     "prompt_number": 6
    },
    {
     "cell_type": "code",
     "collapsed": false,
     "input": [
      "a = lambda : zeros(2,dtype=uint32)\n",
      "a()"
     ],
     "language": "python",
     "metadata": {},
     "outputs": [
      {
       "metadata": {},
       "output_type": "pyout",
       "prompt_number": 8,
       "text": [
        "array([0, 0], dtype=uint32)"
       ]
      }
     ],
     "prompt_number": 8
    },
    {
     "cell_type": "code",
     "collapsed": false,
     "input": [
      "import addTrack"
     ],
     "language": "python",
     "metadata": {},
     "outputs": [],
     "prompt_number": 2
    },
    {
     "cell_type": "code",
     "collapsed": false,
     "input": [
      "db = addTrack.dataBase"
     ],
     "language": "python",
     "metadata": {},
     "outputs": [],
     "prompt_number": 3
    },
    {
     "cell_type": "code",
     "collapsed": false,
     "input": [
      "a = zeros(2,dtype=uint32)\n",
      "a[0] = ones(32).dot(tmp)\n",
      "a"
     ],
     "language": "python",
     "metadata": {},
     "outputs": [
      {
       "metadata": {},
       "output_type": "pyout",
       "prompt_number": 27,
       "text": [
        "array([4294967295,          0], dtype=uint32)"
       ]
      }
     ],
     "prompt_number": 27
    },
    {
     "cell_type": "code",
     "collapsed": false,
     "input": [
      "a = array([4,2,1,3])\n",
      "abs(a).argsort()"
     ],
     "language": "python",
     "metadata": {},
     "outputs": [
      {
       "metadata": {},
       "output_type": "pyout",
       "prompt_number": 28,
       "text": [
        "array([2, 1, 3, 0], dtype=int64)"
       ]
      }
     ],
     "prompt_number": 28
    },
    {
     "cell_type": "code",
     "collapsed": false,
     "input": [
      "Z = np.zeros((8,8),dtype=int)\n",
      "Z[1::2,::2] = 1\n",
      "Z[::2,1::2] = 1\n",
      "Z"
     ],
     "language": "python",
     "metadata": {},
     "outputs": [
      {
       "metadata": {},
       "output_type": "pyout",
       "prompt_number": 1,
       "text": [
        "array([[0, 1, 0, 1, 0, 1, 0, 1],\n",
        "       [1, 0, 1, 0, 1, 0, 1, 0],\n",
        "       [0, 1, 0, 1, 0, 1, 0, 1],\n",
        "       [1, 0, 1, 0, 1, 0, 1, 0],\n",
        "       [0, 1, 0, 1, 0, 1, 0, 1],\n",
        "       [1, 0, 1, 0, 1, 0, 1, 0],\n",
        "       [0, 1, 0, 1, 0, 1, 0, 1],\n",
        "       [1, 0, 1, 0, 1, 0, 1, 0]])"
       ]
      }
     ],
     "prompt_number": 1
    },
    {
     "cell_type": "code",
     "collapsed": false,
     "input": [
      "a = randint(1,10,(10))\n",
      "a"
     ],
     "language": "python",
     "metadata": {},
     "outputs": [
      {
       "metadata": {},
       "output_type": "pyout",
       "prompt_number": 6,
       "text": [
        "array([1, 5, 6, 6, 7, 5, 5, 5, 9, 4])"
       ]
      }
     ],
     "prompt_number": 6
    },
    {
     "cell_type": "code",
     "collapsed": false,
     "input": [
      "%time ones((8,10)) * a"
     ],
     "language": "python",
     "metadata": {},
     "outputs": [
      {
       "output_type": "stream",
       "stream": "stdout",
       "text": [
        "CPU times: user 163 \u00b5s, sys: 47 \u00b5s, total: 210 \u00b5s\n",
        "Wall time: 284 \u00b5s\n"
       ]
      },
      {
       "metadata": {},
       "output_type": "pyout",
       "prompt_number": 8,
       "text": [
        "array([[ 1.,  5.,  6.,  6.,  7.,  5.,  5.,  5.,  9.,  4.],\n",
        "       [ 1.,  5.,  6.,  6.,  7.,  5.,  5.,  5.,  9.,  4.],\n",
        "       [ 1.,  5.,  6.,  6.,  7.,  5.,  5.,  5.,  9.,  4.],\n",
        "       [ 1.,  5.,  6.,  6.,  7.,  5.,  5.,  5.,  9.,  4.],\n",
        "       [ 1.,  5.,  6.,  6.,  7.,  5.,  5.,  5.,  9.,  4.],\n",
        "       [ 1.,  5.,  6.,  6.,  7.,  5.,  5.,  5.,  9.,  4.],\n",
        "       [ 1.,  5.,  6.,  6.,  7.,  5.,  5.,  5.,  9.,  4.],\n",
        "       [ 1.,  5.,  6.,  6.,  7.,  5.,  5.,  5.,  9.,  4.]])"
       ]
      }
     ],
     "prompt_number": 8
    },
    {
     "cell_type": "code",
     "collapsed": false,
     "input": [
      "%time ones((2**3,10)) * a"
     ],
     "language": "python",
     "metadata": {},
     "outputs": [
      {
       "output_type": "stream",
       "stream": "stdout",
       "text": [
        "CPU times: user 983 \u00b5s, sys: 336 \u00b5s, total: 1.32 ms\n",
        "Wall time: 1.34 ms\n"
       ]
      },
      {
       "metadata": {},
       "output_type": "pyout",
       "prompt_number": 20,
       "text": [
        "array([[ 1.,  1.,  1.,  1.,  1.,  1.,  1.,  1.,  1.,  1.],\n",
        "       [ 1.,  1.,  1.,  1.,  1.,  1.,  1.,  1.,  1.,  1.],\n",
        "       [ 1.,  1.,  1.,  1.,  1.,  1.,  1.,  1.,  1.,  1.],\n",
        "       [ 1.,  1.,  1.,  1.,  1.,  1.,  1.,  1.,  1.,  1.],\n",
        "       [ 1.,  1.,  1.,  1.,  1.,  1.,  1.,  1.,  1.,  1.],\n",
        "       [ 1.,  1.,  1.,  1.,  1.,  1.,  1.,  1.,  1.,  1.],\n",
        "       [ 1.,  1.,  1.,  1.,  1.,  1.,  1.,  1.,  1.,  1.],\n",
        "       [ 1.,  1.,  1.,  1.,  1.,  1.,  1.,  1.,  1.,  1.]])"
       ]
      }
     ],
     "prompt_number": 20
    },
    {
     "cell_type": "code",
     "collapsed": false,
     "input": [
      "from query import genCandidate as gc"
     ],
     "language": "python",
     "metadata": {},
     "outputs": [],
     "prompt_number": 21
    },
    {
     "cell_type": "code",
     "collapsed": false,
     "input": [
      "sf = randint(0,2,32)\n",
      "ed = rand(32)\n",
      "sf"
     ],
     "language": "python",
     "metadata": {},
     "outputs": [
      {
       "metadata": {},
       "output_type": "pyout",
       "prompt_number": 29,
       "text": [
        "array([0, 0, 1, 1, 0, 0, 0, 0, 0, 0, 0, 0, 0, 0, 0, 0, 1, 0, 0, 1, 0, 1, 1,\n",
        "       0, 0, 0, 1, 0, 0, 0, 0, 0])"
       ]
      }
     ],
     "prompt_number": 29
    },
    {
     "cell_type": "code",
     "collapsed": false,
     "input": [
      "a"
     ],
     "language": "python",
     "metadata": {},
     "outputs": []
    },
    {
     "cell_type": "code",
     "collapsed": false,
     "input": [],
     "language": "python",
     "metadata": {},
     "outputs": []
    }
   ],
   "metadata": {}
  }
 ]
}